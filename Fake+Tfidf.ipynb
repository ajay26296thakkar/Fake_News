{
  "nbformat": 4,
  "nbformat_minor": 0,
  "metadata": {
    "colab": {
      "name": "Fake+Tfidf.ipynb",
      "version": "0.3.2",
      "provenance": [],
      "collapsed_sections": [],
      "include_colab_link": true
    },
    "kernelspec": {
      "name": "python3",
      "display_name": "Python 3"
    }
  },
  "cells": [
    {
      "cell_type": "markdown",
      "metadata": {
        "id": "view-in-github",
        "colab_type": "text"
      },
      "source": [
        "<a href=\"https://colab.research.google.com/github/ajay26296thakkar/Fake_News/blob/master/Fake%2BTfidf.ipynb\" target=\"_parent\"><img src=\"https://colab.research.google.com/assets/colab-badge.svg\" alt=\"Open In Colab\"/></a>"
      ]
    },
    {
      "metadata": {
        "id": "2Ufb-V--gPXK",
        "colab_type": "code",
        "colab": {
          "base_uri": "https://localhost:8080/",
          "height": 221
        },
        "outputId": "26f16c74-d0de-4e31-cb78-ac7a3294be4f"
      },
      "cell_type": "code",
      "source": [
        "import pandas as pd\n",
        "import nltk\n",
        "from nltk.corpus import stopwords\n",
        "nltk.download('stopwords')\n",
        "stop_words=set(stopwords.words(\"english\"))\n",
        "import numpy as np\n",
        "import random\n",
        "import string\n",
        "nltk.download('punkt')\n",
        "from google.colab import drive\n",
        "from nltk.tokenize import word_tokenize\n",
        "from nltk.stem.porter import PorterStemmer\n",
        "porter = PorterStemmer()\n",
        "drive.mount('/content/gdrive')\n",
        "stop_words = set(stopwords.words('english'))\n",
        "from sklearn.model_selection import train_test_split\n",
        "from sklearn.feature_extraction.text import CountVectorizer\n",
        "from sklearn.svm import SVC  \n",
        "svclassifier = SVC(kernel='linear')  \n",
        "from sklearn.feature_extraction.text import TfidfVectorizer\n",
        "from sklearn.metrics import accuracy_score,classification_report\n",
        "\n",
        "def load_kagglefakenews():\n",
        "    #load training data and put into arrays\n",
        "    df = pd.read_csv('gdrive/My Drive/data.csv', encoding='utf8') # be sure to point to wherever you put your file\n",
        "    train_data = df['Body'].values.tolist() #'text' column contains articles\n",
        "    train_labels = df['Label'].values.tolist() #'label' column contains labels\n",
        "\n",
        "    #Randomly shuffle data and labels together\n",
        "    combo = list(zip(train_data, train_labels))\n",
        "    #random.shuffle(combo)\n",
        "    train_data, train_labels = zip(*combo)\n",
        "    del df #clear up memory\n",
        "   \n",
        "    return np.asarray(train_data).tolist(), np.asarray(train_labels).tolist()\n",
        "def PreProcessing(train_da,train_lab):\n",
        "  i=0\n",
        "  for text in train_da:\n",
        "    tokens = word_tokenize(text)\n",
        "    tokens = [w.lower() for w in tokens]\n",
        "    table = str.maketrans('', '', string.punctuation)\n",
        "    stripped = [w.translate(table) for w in tokens]\n",
        "    words = [word for word in tokens if word.isalpha()]\n",
        "    words = [w for w in words if not w in stop_words]\n",
        "    stemmed = [porter.stem(word) for word in words]\n",
        "    train_da[i]=stemmed\n",
        "    i=i+1\n",
        "  return train_da,train_lab\n",
        "\n",
        "train_data, train_labels = load_kagglefakenews()\n",
        "train_data, train_labels = PreProcessing(train_data, train_labels)\n",
        "#vectorizer.fit_transform(train_data)\n",
        "tfidf = TfidfVectorizer(tokenizer=lambda i:i, lowercase=False)\n",
        "result_train = tfidf.fit_transform(train_data)\n",
        "X_train, X_test, y_train, y_test = train_test_split(result_train, train_labels , test_size=0.20)\n",
        "svclassifier.fit(X_train, y_train)  \n",
        "y_pred = svclassifier.predict(X_test)  \n",
        "accuracy=accuracy_score(y_test,y_pred)\n",
        "print(accuracy)\n"
      ],
      "execution_count": 1,
      "outputs": [
        {
          "output_type": "stream",
          "text": [
            "[nltk_data] Downloading package stopwords to /root/nltk_data...\n",
            "[nltk_data]   Unzipping corpora/stopwords.zip.\n",
            "[nltk_data] Downloading package punkt to /root/nltk_data...\n",
            "[nltk_data]   Unzipping tokenizers/punkt.zip.\n",
            "Go to this URL in a browser: https://accounts.google.com/o/oauth2/auth?client_id=947318989803-6bn6qk8qdgf4n4g3pfee6491hc0brc4i.apps.googleusercontent.com&redirect_uri=urn%3Aietf%3Awg%3Aoauth%3A2.0%3Aoob&scope=email%20https%3A%2F%2Fwww.googleapis.com%2Fauth%2Fdocs.test%20https%3A%2F%2Fwww.googleapis.com%2Fauth%2Fdrive%20https%3A%2F%2Fwww.googleapis.com%2Fauth%2Fdrive.photos.readonly%20https%3A%2F%2Fwww.googleapis.com%2Fauth%2Fpeopleapi.readonly&response_type=code\n",
            "\n",
            "Enter your authorization code:\n",
            "··········\n",
            "Mounted at /content/gdrive\n",
            "0.9825436408977556\n"
          ],
          "name": "stdout"
        }
      ]
    }
  ]
}