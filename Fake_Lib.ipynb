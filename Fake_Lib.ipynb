{
  "nbformat": 4,
  "nbformat_minor": 0,
  "metadata": {
    "colab": {
      "name": "Fake_Lib.ipynb",
      "version": "0.3.2",
      "provenance": [],
      "include_colab_link": true
    },
    "kernelspec": {
      "name": "python3",
      "display_name": "Python 3"
    }
  },
  "cells": [
    {
      "cell_type": "markdown",
      "metadata": {
        "id": "view-in-github",
        "colab_type": "text"
      },
      "source": [
        "<a href=\"https://colab.research.google.com/github/ajay26296thakkar/Fake_News/blob/master/Fake_Lib.ipynb\" target=\"_parent\"><img src=\"https://colab.research.google.com/assets/colab-badge.svg\" alt=\"Open In Colab\"/></a>"
      ]
    },
    {
      "metadata": {
        "id": "mdG4nFxWKZLv",
        "colab_type": "code",
        "outputId": "f193e4f3-43c5-42c1-82af-a3ca1753b378",
        "colab": {
          "base_uri": "https://localhost:8080/",
          "height": 193
        }
      },
      "cell_type": "code",
      "source": [
        "import pandas as pd\n",
        "import nltk\n",
        "from nltk.corpus import stopwords\n",
        "nltk.download('stopwords')\n",
        "stop_words=set(stopwords.words(\"english\"))\n",
        "import numpy as np\n",
        "import random\n",
        "import gensim\n",
        "from gensim.models import Word2Vec\n",
        "import string\n",
        "nltk.download('punkt')\n",
        "from google.colab import drive\n",
        "from nltk.tokenize import word_tokenize\n",
        "from nltk.stem.porter import PorterStemmer\n",
        "porter = PorterStemmer()\n",
        "drive.mount('/content/gdrive')\n",
        "stop_words = set(stopwords.words('english'))\n",
        "from sklearn.model_selection import train_test_split\n",
        "from sklearn.feature_extraction.text import CountVectorizer\n",
        "from sklearn.svm import SVC  \n",
        "svclassifier = SVC(kernel='linear')  \n",
        "from sklearn.feature_extraction.text import TfidfVectorizer\n",
        "from sklearn.metrics import accuracy_score,classification_report\n",
        "\n",
        "def load_kagglefakenews():\n",
        "    #load training data and put into arrays\n",
        "    df = pd.read_csv('gdrive/My Drive/data.csv', encoding='utf8') \n",
        "    train_data = df['Body'].values.tolist() #'text' column contains articles\n",
        "    train_labels = df['Label'].values.tolist() #'label' column contains labels\n",
        "\n",
        "    #Randomly shuffle data and labels together\n",
        "    combo = list(zip(train_data, train_labels))\n",
        "    #random.shuffle(combo)\n",
        "    train_data, train_labels = zip(*combo)\n",
        "    del df #clear up memory\n",
        "   \n",
        "    return np.asarray(train_data).tolist(), np.asarray(train_labels).tolist()\n",
        "def PreProcessing(train_da,train_lab):\n",
        "  i=0\n",
        "  for text in train_da:\n",
        "    tokens = word_tokenize(text)\n",
        "    tokens = [w.lower() for w in tokens]\n",
        "    table = str.maketrans('', '', string.punctuation)\n",
        "    stripped = [w.translate(table) for w in tokens]\n",
        "    words = [word for word in tokens if word.isalpha()]\n",
        "    words = [w for w in words if not w in stop_words]\n",
        "    stemmed = [porter.stem(word) for word in words]\n",
        "    train_da[i]=stemmed\n",
        "    i=i+1\n",
        "  return train_da,train_lab\n",
        "\n",
        "train_data, train_labels = load_kagglefakenews()\n",
        "train_data, train_labels = PreProcessing(train_data, train_labels)"
      ],
      "execution_count": 0,
      "outputs": [
        {
          "output_type": "stream",
          "text": [
            "[nltk_data] Downloading package stopwords to /root/nltk_data...\n",
            "[nltk_data]   Unzipping corpora/stopwords.zip.\n",
            "[nltk_data] Downloading package punkt to /root/nltk_data...\n",
            "[nltk_data]   Unzipping tokenizers/punkt.zip.\n",
            "Go to this URL in a browser: https://accounts.google.com/o/oauth2/auth?client_id=947318989803-6bn6qk8qdgf4n4g3pfee6491hc0brc4i.apps.googleusercontent.com&redirect_uri=urn%3Aietf%3Awg%3Aoauth%3A2.0%3Aoob&scope=email%20https%3A%2F%2Fwww.googleapis.com%2Fauth%2Fdocs.test%20https%3A%2F%2Fwww.googleapis.com%2Fauth%2Fdrive%20https%3A%2F%2Fwww.googleapis.com%2Fauth%2Fdrive.photos.readonly%20https%3A%2F%2Fwww.googleapis.com%2Fauth%2Fpeopleapi.readonly&response_type=code\n",
            "\n",
            "Enter your authorization code:\n",
            "··········\n",
            "Mounted at /content/gdrive\n"
          ],
          "name": "stdout"
        }
      ]
    },
    {
      "metadata": {
        "id": "1NiVtjJVLVQH",
        "colab_type": "code",
        "outputId": "f8ab2ea8-55a8-412a-d353-d9b42b48c573",
        "colab": {
          "base_uri": "https://localhost:8080/",
          "height": 91
        }
      },
      "cell_type": "code",
      "source": [
        "model=Word2Vec(train_data[100:250],size=5,window=2,sg=1,min_count=0,alpha=0.01)\n",
        "model.train(train_data[100:250], total_examples=150, epochs=5)\n",
        "word=model.wv.vocab\n",
        "t_dict=dict(zip(list(word),model[word]))\n",
        "X_train, X_test, y_train, y_test = train_test_split(train_data[100:250], train_labels[100:250] , test_size=0.20,shuffle=False)\n",
        "Features = list(map(lambda y:list(np.sum(list(map(lambda x:list(t_dict[x]),y)),axis=0)),X_train))\n",
        "Te_Features = list(map(lambda y:list(np.sum(list(map(lambda x:list(t_dict[x]),y)),axis=0)),X_test))\n",
        "svclassifier.fit(Features, y_train)  \n",
        "y_pred = svclassifier.predict(Te_Features)  \n",
        "accuracy=accuracy_score(y_test,y_pred)\n",
        "print(accuracy)\n"
      ],
      "execution_count": 0,
      "outputs": [
        {
          "output_type": "stream",
          "text": [
            "/usr/local/lib/python3.6/dist-packages/ipykernel_launcher.py:4: DeprecationWarning: Call to deprecated `__getitem__` (Method will be removed in 4.0.0, use self.wv.__getitem__() instead).\n",
            "  after removing the cwd from sys.path.\n"
          ],
          "name": "stderr"
        },
        {
          "output_type": "stream",
          "text": [
            "0.75\n"
          ],
          "name": "stdout"
        }
      ]
    },
    {
      "metadata": {
        "id": "ux6lm_vGcfJB",
        "colab_type": "code",
        "colab": {}
      },
      "cell_type": "code",
      "source": [
        ""
      ],
      "execution_count": 0,
      "outputs": []
    },
    {
      "metadata": {
        "id": "XA_tv3ljcgNx",
        "colab_type": "code",
        "colab": {}
      },
      "cell_type": "code",
      "source": [
        ""
      ],
      "execution_count": 0,
      "outputs": []
    }
  ]
}